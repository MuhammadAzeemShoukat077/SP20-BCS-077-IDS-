{
  "cells": [
    {
      "cell_type": "code",
      "execution_count": 1,
      "id": "867275dd-8b42-463a-9869-1bab3b2dc655",
      "metadata": {
        "id": "867275dd-8b42-463a-9869-1bab3b2dc655"
      },
      "outputs": [],
      "source": [
        "import requests\n",
        "from bs4 import BeautifulSoup \n",
        "import json"
      ]
    },
    {
      "cell_type": "code",
      "execution_count": 2,
      "id": "671bd23f-65b5-487e-b5ce-17382e010b77",
      "metadata": {
        "id": "671bd23f-65b5-487e-b5ce-17382e010b77"
      },
      "outputs": [],
      "source": [
        "response = requests.get(\"https://www.aljazeera.com/\")"
      ]
    },
    {
      "cell_type": "code",
      "execution_count": 3,
      "id": "213b8163-b7de-4d53-9309-8d46a7bf9a87",
      "metadata": {
        "tags": [],
        "id": "213b8163-b7de-4d53-9309-8d46a7bf9a87"
      },
      "outputs": [],
      "source": [
        "soup = BeautifulSoup(response.content, 'html.parser')"
      ]
    },
    {
      "cell_type": "code",
      "execution_count": 4,
      "id": "be1c47a3-e202-474b-8628-e62bba0560dc",
      "metadata": {
        "id": "be1c47a3-e202-474b-8628-e62bba0560dc"
      },
      "outputs": [],
      "source": [
        "lis = soup.findAll('li', {'class':'fte-featured-articles-list__item'})"
      ]
    },
    {
      "cell_type": "code",
      "execution_count": 5,
      "id": "d1bf5c00-d93e-4515-b899-80589c84125d",
      "metadata": {
        "id": "d1bf5c00-d93e-4515-b899-80589c84125d"
      },
      "outputs": [],
      "source": [
        "headlines = []"
      ]
    },
    {
      "cell_type": "code",
      "execution_count": 6,
      "id": "b80ab359-077b-452d-9771-71aa059756b9",
      "metadata": {
        "id": "b80ab359-077b-452d-9771-71aa059756b9"
      },
      "outputs": [],
      "source": [
        "for li in lis:\n",
        "    headline = li.find('span').text\n",
        "    jsonObj = {\"headline\":headline}\n",
        "    headlines.append(jsonObj)"
      ]
    },
    {
      "cell_type": "code",
      "execution_count": 7,
      "id": "d4196b89-96cc-49c0-8a97-6c242512676f",
      "metadata": {
        "id": "d4196b89-96cc-49c0-8a97-6c242512676f",
        "outputId": "59015e02-53d3-441e-b7a3-425822eedd32",
        "colab": {
          "base_uri": "https://localhost:8080/"
        }
      },
      "outputs": [
        {
          "output_type": "execute_result",
          "data": {
            "text/plain": [
              "[{'headline': 'Live updates, '},\n",
              " {'headline': 'MORE TOP STORIES'},\n",
              " {'headline': '‘Sabotage’ to blame for major German rail disruption'},\n",
              " {'headline': '‘Not afraid anymore’: Iran protests enter fourth week'},\n",
              " {'headline': 'Urgent imperative: Zaporizhzhia nuclear plant on auxiliary power'},\n",
              " {'headline': '‘Odious acts’: 7 Djibouti soldiers killed in armed group attack'},\n",
              " {'headline': 'Domestic dissent: The new front in Russia’s information war'},\n",
              " {'headline': 'Israeli forces kill two Palestinians during raid in Jenin camp'},\n",
              " {'headline': 'Nine people confirmed dead in Ireland petrol station explosion'},\n",
              " {'headline': 'Ukraine battles Russian advance in key town of Bakhmut'}]"
            ]
          },
          "metadata": {},
          "execution_count": 7
        }
      ],
      "source": [
        "headlines"
      ]
    }
  ],
  "metadata": {
    "kernelspec": {
      "display_name": "Python 3 (ipykernel)",
      "language": "python",
      "name": "python3"
    },
    "language_info": {
      "codemirror_mode": {
        "name": "ipython",
        "version": 3
      },
      "file_extension": ".py",
      "mimetype": "text/x-python",
      "name": "python",
      "nbconvert_exporter": "python",
      "pygments_lexer": "ipython3",
      "version": "3.10.0"
    },
    "colab": {
      "provenance": []
    }
  },
  "nbformat": 4,
  "nbformat_minor": 5
}